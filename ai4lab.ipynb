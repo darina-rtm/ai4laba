{
  "cells": [
    {
      "cell_type": "markdown",
      "id": "84387e59",
      "metadata": {
        "id": "84387e59"
      },
      "source": [
        "Лабораторная работа №4"
      ]
    },
    {
      "cell_type": "markdown",
      "id": "fa2d8761",
      "metadata": {
        "id": "fa2d8761"
      },
      "source": [
        "## Задание 1"
      ]
    },
    {
      "cell_type": "code",
      "execution_count": 1,
      "id": "72b86dcb",
      "metadata": {
        "colab": {
          "base_uri": "https://localhost:8080/"
        },
        "id": "72b86dcb",
        "outputId": "a1edefb9-94a3-442a-abc6-6a95a524024c"
      },
      "outputs": [
        {
          "output_type": "stream",
          "name": "stdout",
          "text": [
            "a     5\n",
            "b    15\n",
            "c    25\n",
            "d    35\n",
            "e    45\n",
            "dtype: int64\n",
            "<class 'pandas.core.series.Series'>\n"
          ]
        }
      ],
      "source": [
        "import pandas as pd\n",
        "s1 = pd.Series([5, 15, 25, 35, 45], index=['a', 'b', 'c', 'd', 'e'])\n",
        "print(s1)\n",
        "print(type(s1))"
      ]
    },
    {
      "cell_type": "markdown",
      "id": "ed9e3ae0",
      "metadata": {
        "id": "ed9e3ae0"
      },
      "source": [
        "## Задание 2"
      ]
    },
    {
      "cell_type": "code",
      "execution_count": null,
      "id": "da314239",
      "metadata": {
        "id": "da314239"
      },
      "outputs": [],
      "source": [
        "import pandas as pd\n",
        "s2 = pd.Series([12, 24, 36, 48, 60], index=['A', 'B', 'C', 'D', 'E'])\n",
        "print('loc[C]:', s2.loc['C'])\n",
        "print('iloc[2]:', s2.iloc[2])"
      ]
    },
    {
      "cell_type": "markdown",
      "id": "e0621641",
      "metadata": {
        "id": "e0621641"
      },
      "source": [
        "## Задание 3"
      ]
    },
    {
      "cell_type": "code",
      "execution_count": null,
      "id": "e6d6cc77",
      "metadata": {
        "id": "e6d6cc77"
      },
      "outputs": [],
      "source": [
        "import pandas as pd\n",
        "import numpy as np\n",
        "arr = np.array([4, 9, 16, 25, 36, 49, 64])\n",
        "s3 = pd.Series(arr)\n",
        "print(s3[s3 > 20])"
      ]
    },
    {
      "cell_type": "markdown",
      "id": "88537e19",
      "metadata": {
        "id": "88537e19"
      },
      "source": [
        "## Задание 4"
      ]
    },
    {
      "cell_type": "code",
      "execution_count": null,
      "id": "db9e4386",
      "metadata": {
        "id": "db9e4386"
      },
      "outputs": [],
      "source": [
        "import pandas as pd\n",
        "import numpy as np\n",
        "s4 = pd.Series(np.random.randint(1, 101, 50))\n",
        "print('head():')\n",
        "print(s4.head(7))\n",
        "print('tail():')\n",
        "print(s4.tail(5))"
      ]
    },
    {
      "cell_type": "markdown",
      "id": "72d05d74",
      "metadata": {
        "id": "72d05d74"
      },
      "source": [
        "## Задание 5"
      ]
    },
    {
      "cell_type": "code",
      "execution_count": null,
      "id": "c0844bdf",
      "metadata": {
        "id": "c0844bdf"
      },
      "outputs": [],
      "source": [
        "import pandas as pd\n",
        "s5 = pd.Series(['cat', 'dog', 'rabbit', 'parrot', 'fish'])\n",
        "print('dtype до:', s5.dtype)\n",
        "s5 = s5.astype('category')\n",
        "print('dtype после:', s5.dtype)"
      ]
    },
    {
      "cell_type": "markdown",
      "id": "3c2d67ab",
      "metadata": {
        "id": "3c2d67ab"
      },
      "source": [
        "## Задание 6"
      ]
    },
    {
      "cell_type": "code",
      "execution_count": null,
      "id": "bb5873eb",
      "metadata": {
        "id": "bb5873eb"
      },
      "outputs": [],
      "source": [
        "import pandas as pd\n",
        "import numpy as np\n",
        "s6 = pd.Series([1.2, np.nan, 3.4, np.nan, 5.6, 6.8])\n",
        "print('NaN индексы:', s6[s6.isna()].index.tolist())"
      ]
    },
    {
      "cell_type": "markdown",
      "id": "43fab9a8",
      "metadata": {
        "id": "43fab9a8"
      },
      "source": [
        "## Задание 7"
      ]
    },
    {
      "cell_type": "code",
      "execution_count": null,
      "id": "35509aa9",
      "metadata": {
        "id": "35509aa9"
      },
      "outputs": [],
      "source": [
        "import pandas as pd\n",
        "import numpy as np\n",
        "s6 = pd.Series([1.2, np.nan, 3.4, np.nan, 5.6, 6.8])\n",
        "mean_val = s6.mean()\n",
        "s6_filled = s6.fillna(mean_val)\n",
        "print(s6_filled)"
      ]
    },
    {
      "cell_type": "markdown",
      "id": "06a1d222",
      "metadata": {
        "id": "06a1d222"
      },
      "source": [
        "## Задание 8"
      ]
    },
    {
      "cell_type": "code",
      "execution_count": null,
      "id": "0d09a1a9",
      "metadata": {
        "id": "0d09a1a9"
      },
      "outputs": [],
      "source": [
        "import pandas as pd\n",
        "a = pd.Series([1, 2, 3])\n",
        "b = pd.Series([4, 5, 6])\n",
        "print('Сложение:')\n",
        "print(a + b)\n",
        "print('Умножение:')\n",
        "print(a * b)"
      ]
    },
    {
      "cell_type": "markdown",
      "id": "ae2b7fb2",
      "metadata": {
        "id": "ae2b7fb2"
      },
      "source": [
        "## Задание 9"
      ]
    },
    {
      "cell_type": "code",
      "execution_count": null,
      "id": "06a43386",
      "metadata": {
        "id": "06a43386"
      },
      "outputs": [],
      "source": [
        "import pandas as pd\n",
        "import numpy as np\n",
        "s9 = pd.Series([2, 4, 6, 8, 10])\n",
        "print(s9.apply(np.sqrt))"
      ]
    },
    {
      "cell_type": "markdown",
      "id": "c01d8ebe",
      "metadata": {
        "id": "c01d8ebe"
      },
      "source": [
        "## Задание 10"
      ]
    },
    {
      "cell_type": "code",
      "execution_count": null,
      "id": "75801d17",
      "metadata": {
        "id": "75801d17"
      },
      "outputs": [],
      "source": [
        "import pandas as pd\n",
        "import numpy as np\n",
        "s10 = pd.Series(np.random.randint(50, 151, 20))\n",
        "print('Сумма:', s10.sum())\n",
        "print('Среднее:', s10.mean())\n",
        "print('Мин:', s10.min())\n",
        "print('Макс:', s10.max())\n",
        "print('Ст. отклонение:', s10.std())"
      ]
    },
    {
      "cell_type": "markdown",
      "id": "2d753d23",
      "metadata": {
        "id": "2d753d23"
      },
      "source": [
        "## Задание 11"
      ]
    },
    {
      "cell_type": "code",
      "execution_count": null,
      "id": "f584fa7c",
      "metadata": {
        "id": "f584fa7c"
      },
      "outputs": [],
      "source": [
        "import pandas as pd\n",
        "import numpy as np\n",
        "dates = pd.date_range('2024-03-01', periods=10)\n",
        "s11 = pd.Series(np.random.randint(10, 100, 10), index=dates)\n",
        "print(s11['2024-03-05':'2024-03-08'])"
      ]
    },
    {
      "cell_type": "markdown",
      "id": "2ee3a82d",
      "metadata": {
        "id": "2ee3a82d"
      },
      "source": [
        "## Задание 12"
      ]
    },
    {
      "cell_type": "code",
      "execution_count": null,
      "id": "cdaabd1b",
      "metadata": {
        "id": "cdaabd1b"
      },
      "outputs": [],
      "source": [
        "import pandas as pd\n",
        "s12 = pd.Series([10, 20, 30, 40, 50, 60], index=['A', 'B', 'A', 'C', 'D', 'B'])\n",
        "print('Уникальны ли индексы?', s12.index.is_unique)\n",
        "print(s12.groupby(s12.index).sum())"
      ]
    },
    {
      "cell_type": "markdown",
      "id": "a6c64fcb",
      "metadata": {
        "id": "a6c64fcb"
      },
      "source": [
        "## Задание 13"
      ]
    },
    {
      "cell_type": "code",
      "execution_count": null,
      "id": "fa898f75",
      "metadata": {
        "id": "fa898f75"
      },
      "outputs": [],
      "source": [
        "import pandas as pd\n",
        "s13 = pd.Series([100, 200, 300], index=['2024-03-10', '2024-03-11', '2024-03-12'])\n",
        "s13.index = pd.to_datetime(s13.index)\n",
        "print('Тип индекса:', type(s13.index))"
      ]
    },
    {
      "cell_type": "markdown",
      "id": "ddbfa439",
      "metadata": {
        "id": "ddbfa439"
      },
      "source": [
        "## Задание 14"
      ]
    },
    {
      "cell_type": "code",
      "execution_count": null,
      "id": "bf9e0b77",
      "metadata": {
        "id": "bf9e0b77"
      },
      "outputs": [],
      "source": [
        "import pandas as pd\n",
        "s14 = pd.Series([90, 95, 100], index=pd.to_datetime(['2024-01-01', '2024-01-02', '2024-01-03']))\n",
        "print(s14)"
      ]
    },
    {
      "cell_type": "markdown",
      "id": "2503e790",
      "metadata": {
        "id": "2503e790"
      },
      "source": [
        "## Задание 15"
      ]
    },
    {
      "cell_type": "code",
      "execution_count": null,
      "id": "5dc30fb0",
      "metadata": {
        "id": "5dc30fb0"
      },
      "outputs": [],
      "source": [
        "import pandas as pd\n",
        "import numpy as np\n",
        "s15 = pd.Series([10, None, 30, None, 20], index=['a', 'b', 'c', 'd', 'e'])\n",
        "print(s15.sort_values())\n",
        "print(s15.sort_values(na_position='first'))"
      ]
    },
    {
      "cell_type": "markdown",
      "id": "8d259fa3",
      "metadata": {
        "id": "8d259fa3"
      },
      "source": [
        "## Индивидуальное задание 10"
      ]
    },
    {
      "cell_type": "code",
      "execution_count": null,
      "id": "c7fca218",
      "metadata": {
        "id": "c7fca218"
      },
      "outputs": [],
      "source": [
        "import pandas as pd\n",
        "import numpy as np\n",
        "s_ind10 = pd.Series(np.random.randint(50, 151, 20))\n",
        "print(s_ind10)\n",
        "print(\"\\nСумма:\", s_ind10.sum())\n",
        "print(\"Среднее:\", s_ind10.mean())\n",
        "print(\"Минимум:\", s_ind10.min())\n",
        "print(\"Максимум:\", s_ind10.max())\n",
        "print(\"Стандартное отклонение:\", s_ind10.std())"
      ]
    }
  ],
  "metadata": {
    "colab": {
      "provenance": []
    },
    "language_info": {
      "name": "python"
    },
    "kernelspec": {
      "name": "python3",
      "display_name": "Python 3"
    }
  },
  "nbformat": 4,
  "nbformat_minor": 5
}